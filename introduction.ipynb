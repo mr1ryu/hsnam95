{
  "nbformat": 4,
  "nbformat_minor": 0,
  "metadata": {
    "colab": {
      "name": "introduction.ipynb",
      "provenance": [],
      "authorship_tag": "ABX9TyMIOrEihUMiwtJlRlVPn1nW",
      "include_colab_link": true
    },
    "kernelspec": {
      "name": "python3",
      "display_name": "Python 3"
    }
  },
  "cells": [
    {
      "cell_type": "markdown",
      "metadata": {
        "id": "view-in-github",
        "colab_type": "text"
      },
      "source": [
        "<a href=\"https://colab.research.google.com/github/hsnam95/class2022Spring/blob/main/introduction.ipynb\" target=\"_parent\"><img src=\"https://colab.research.google.com/assets/colab-badge.svg\" alt=\"Open In Colab\"/></a>"
      ]
    },
    {
      "cell_type": "markdown",
      "metadata": {
        "id": "qg4XK6W39TPs"
      },
      "source": [
        "# 영어 음성학 응용 2022년도 1학기\n",
        "\n",
        "keywords: python, colab, github, data processing (text, sound, image), huggingface, gradio\n"
      ]
    }
  ]
}