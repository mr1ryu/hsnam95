{
  "nbformat": 4,
  "nbformat_minor": 0,
  "metadata": {
    "colab": {
      "name": "pytorch_hub.ipynb",
      "provenance": [],
      "authorship_tag": "ABX9TyMQtN0JLDVDQzvF8eD3F+Qv",
      "include_colab_link": true
    },
    "kernelspec": {
      "name": "python3",
      "display_name": "Python 3"
    },
    "language_info": {
      "name": "python"
    }
  },
  "cells": [
    {
      "cell_type": "markdown",
      "metadata": {
        "id": "view-in-github",
        "colab_type": "text"
      },
      "source": [
        "<a href=\"https://colab.research.google.com/github/hsnam95/class2022Spring/blob/main/pytorch_hub.ipynb\" target=\"_parent\"><img src=\"https://colab.research.google.com/assets/colab-badge.svg\" alt=\"Open In Colab\"/></a>"
      ]
    },
    {
      "cell_type": "markdown",
      "source": [
        "### [Pytorch Hub](https://pytorch.org/hub/research-models)"
      ],
      "metadata": {
        "id": "NsJFRaNRhzMk"
      }
    },
    {
      "cell_type": "markdown",
      "source": [
        "> image generation (e.g. [PGAN](https://pytorch.org/hub/facebookresearch_pytorch-gan-zoo_pgan/))"
      ],
      "metadata": {
        "id": "mXE-SVAyhwnu"
      }
    },
    {
      "cell_type": "code",
      "execution_count": null,
      "metadata": {
        "id": "Feyy9LQTgG-m"
      },
      "outputs": [],
      "source": [
        "import torch\n",
        "model = torch.hub.load('facebookresearch/pytorch_GAN_zoo:hub', 'PGAN', model_name='celebAHQ-512', pretrained=True)"
      ]
    },
    {
      "cell_type": "code",
      "source": [
        "num_images = 4\n",
        "noise, _ = model.buildNoiseData(num_images)\n",
        "with torch.no_grad():\n",
        "    generated_images = model.test(noise)\n",
        "\n",
        "# let's plot these images using torchvision and matplotlib\n",
        "import matplotlib.pyplot as plt\n",
        "import torchvision\n",
        "grid = torchvision.utils.make_grid(generated_images.clamp(min=-1, max=1), scale_each=True, normalize=True)\n",
        "plt.imshow(grid.permute(1, 2, 0).cpu().numpy())"
      ],
      "metadata": {
        "id": "-IiNzL3ohYWD"
      },
      "execution_count": null,
      "outputs": []
    }
  ]
}