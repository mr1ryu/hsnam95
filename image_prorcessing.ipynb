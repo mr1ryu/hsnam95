{
  "nbformat": 4,
  "nbformat_minor": 0,
  "metadata": {
    "colab": {
      "name": "image_prorcessing.ipynb",
      "provenance": [],
      "authorship_tag": "ABX9TyMCh8AzlNcIxFQoky5O53HF",
      "include_colab_link": true
    },
    "kernelspec": {
      "name": "python3",
      "display_name": "Python 3"
    },
    "language_info": {
      "name": "python"
    }
  },
  "cells": [
    {
      "cell_type": "markdown",
      "metadata": {
        "id": "view-in-github",
        "colab_type": "text"
      },
      "source": [
        "<a href=\"https://colab.research.google.com/github/hsnam95/class2022Spring/blob/main/image_prorcessing.ipynb\" target=\"_parent\"><img src=\"https://colab.research.google.com/assets/colab-badge.svg\" alt=\"Open In Colab\"/></a>"
      ]
    },
    {
      "cell_type": "markdown",
      "source": [
        "# Image processing\n",
        "https://www.w3schools.com/html/html_colors_rgb.asp"
      ],
      "metadata": {
        "id": "o7Kt9mdsl64L"
      }
    },
    {
      "cell_type": "code",
      "source": [
        "import cv2 # openCV (computer vision) package\n",
        "from google.colab.patches import cv2_imshow # substitution for cv2.imshow\n",
        "import matplotlib.pylab as plt"
      ],
      "metadata": {
        "id": "73mp63gvtmDQ"
      },
      "execution_count": 1,
      "outputs": []
    },
    {
      "cell_type": "markdown",
      "source": [
        "OpenCV imread, imwrite and imshow indeed all work with the BGR order, so there is no need to change the order when you read an image with cv2.imread and then want to show it with cv2.imshow. While BGR is used consistently throughout OpenCV, most other image processing libraries use the RGB ordering. If you want to use matplotlib's imshow but read the image with OpenCV, you would need to convert from BGR to RGB."
      ],
      "metadata": {
        "id": "HGJBDsHvmkIf"
      }
    },
    {
      "cell_type": "markdown",
      "source": [
        "## \bdownload/save an image from Urls"
      ],
      "metadata": {
        "id": "kmo_iDcgtPoq"
      }
    },
    {
      "cell_type": "code",
      "source": [
        "import os\n",
        "url = \"https://raw.githubusercontent.com/hsnam95/class2022Spring/main/tiger.jpg\"\n",
        "os.system(\"curl \" + url + \" > test.jpg\")"
      ],
      "metadata": {
        "id": "2tNf0hFNQayc"
      },
      "execution_count": null,
      "outputs": []
    },
    {
      "cell_type": "markdown",
      "source": [
        "## display image"
      ],
      "metadata": {
        "id": "lAm9_mj1pvBU"
      }
    },
    {
      "cell_type": "code",
      "source": [
        "image_bgr = cv2.imread('test.jpg')\n",
        "cv2_imshow(image_bgr)"
      ],
      "metadata": {
        "id": "EnYTzgoaREFk"
      },
      "execution_count": null,
      "outputs": []
    },
    {
      "cell_type": "markdown",
      "source": [
        "## display B, G, R channel"
      ],
      "metadata": {
        "id": "vIGysdNa1fuB"
      }
    },
    {
      "cell_type": "code",
      "source": [
        "image_bgr"
      ],
      "metadata": {
        "id": "5TApnEKHyNV1"
      },
      "execution_count": null,
      "outputs": []
    },
    {
      "cell_type": "code",
      "source": [
        "print(type(image_bgr)); print(image_bgr.shape)"
      ],
      "metadata": {
        "id": "aRHotP0CyZJQ"
      },
      "execution_count": null,
      "outputs": []
    },
    {
      "cell_type": "code",
      "source": [
        "image_b = image_bgr.copy()\n",
        "image_b[:,:,[1,2]] = 0\n",
        "cv2_imshow(image_b)"
      ],
      "metadata": {
        "id": "VTv5DIpVyjSo"
      },
      "execution_count": null,
      "outputs": []
    },
    {
      "cell_type": "code",
      "source": [
        "image_g = image_bgr.copy()\n",
        "image_g[:,:,[0,2]] = 0\n",
        "cv2_imshow(image_g)"
      ],
      "metadata": {
        "id": "1AuJtDQy0RqZ"
      },
      "execution_count": null,
      "outputs": []
    },
    {
      "cell_type": "code",
      "source": [
        "image_r = image_bgr.copy()\n",
        "image_r[:,:,[0,1]] = 0\n",
        "cv2_imshow(image_r)"
      ],
      "metadata": {
        "id": "0RYN4ocz0SbD"
      },
      "execution_count": null,
      "outputs": []
    },
    {
      "cell_type": "code",
      "source": [
        "image_inverse = 255 - image_bgr\n",
        "cv2_imshow(image_inverse)"
      ],
      "metadata": {
        "id": "hdjjO-nr1py0"
      },
      "execution_count": null,
      "outputs": []
    },
    {
      "cell_type": "markdown",
      "source": [
        "##histograms"
      ],
      "metadata": {
        "id": "8ctFtvBotyzh"
      }
    },
    {
      "cell_type": "code",
      "source": [
        "# Display the histogram of R, G, B channel\n",
        "color = ['b','g','r']\n",
        "for i in range(len(color)):\n",
        "    histr = cv2.calcHist([image_bgr],[i],None,[255],[0,255]) # ([image], [nChannel], mask, [histSize], [range])\n",
        "    plt.plot(histr, color = color[i])\n",
        "    plt.xlim([0,255])"
      ],
      "metadata": {
        "id": "ccZxy6yjbRbs"
      },
      "execution_count": null,
      "outputs": []
    },
    {
      "cell_type": "code",
      "source": [
        "# Display the histogram of all the pixels in the color image\n",
        "plt.hist(image_bgr.ravel(), bins = 256, range = [0,256]) \n",
        "plt.show()"
      ],
      "metadata": {
        "id": "lFoQ_iOll1SV"
      },
      "execution_count": null,
      "outputs": []
    },
    {
      "cell_type": "markdown",
      "source": [
        "## gray transformation"
      ],
      "metadata": {
        "id": "n80B5Qs9pY1Z"
      }
    },
    {
      "cell_type": "code",
      "source": [
        "image_gray = cv2.cvtColor(image_bgr, cv2.COLOR_BGR2GRAY)\n",
        "cv2_imshow(image_gray)"
      ],
      "metadata": {
        "id": "DJibxSE4lLYA"
      },
      "execution_count": null,
      "outputs": []
    }
  ]
}